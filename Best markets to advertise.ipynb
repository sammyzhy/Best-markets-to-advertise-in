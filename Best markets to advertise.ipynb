{
 "cells": [
  {
   "cell_type": "markdown",
   "metadata": {},
   "source": [
    "## Finding the Best Markets to Advertise In\n",
    "\n",
    "Let's assume that we're working for an an e-learning company that offers courses on programming. Most of our courses are on web and mobile development, but we also cover many other domains, like data science, game development, etc. We want to promote our product and we'd like to invest some money in advertisement. Our goal in this project is to find out the two best markets to advertise our product in."
   ]
  },
  {
   "cell_type": "markdown",
   "metadata": {},
   "source": [
    "## Understanding the Data\n",
    "\n",
    "To reach our goal, we could organize surveys for a couple of different markets to find out which would the best choices for advertising. This is very costly, however, and it's a good call to explore cheaper options first.\n",
    "\n",
    "We can try to search existing data that might be relevant for our purpose. One good candidate is the data from [freeCodeCamp's 2017 New Coder Survey](https://www.freecodecamp.org/news/we-asked-20-000-people-who-they-are-and-how-theyre-learning-to-code-fff5d668969/). [freeCodeCamp](https://www.freecodecamp.org/) is a free e-learning platform that offers courses on web development. Because they run a popular Medium publication (over 400,000 followers), their survey attracted new coders with varying interests (not only web development), which is ideal for the purpose of our analysis.\n",
    "\n",
    "The survey data is publicly available in this [GitHub repository](https://github.com/freeCodeCamp/2017-new-coder-survey).\n",
    "\n",
    "Let's start the project by reading in the file and explore briefly the data set."
   ]
  },
  {
   "cell_type": "code",
   "execution_count": 1,
   "metadata": {
    "collapsed": false
   },
   "outputs": [
    {
     "name": "stdout",
     "output_type": "stream",
     "text": [
      "(18175, 136)\n",
      "    Age  AttendedBootcamp  BootcampFinish  BootcampLoanYesNo BootcampName  \\\n",
      "0  27.0               0.0             NaN                NaN          NaN   \n",
      "1  34.0               0.0             NaN                NaN          NaN   \n",
      "2  21.0               0.0             NaN                NaN          NaN   \n",
      "3  26.0               0.0             NaN                NaN          NaN   \n",
      "4  20.0               0.0             NaN                NaN          NaN   \n",
      "\n",
      "   BootcampRecommend  ChildrenNumber                 CityPopulation  \\\n",
      "0                NaN             NaN            more than 1 million   \n",
      "1                NaN             NaN              less than 100,000   \n",
      "2                NaN             NaN            more than 1 million   \n",
      "3                NaN             NaN  between 100,000 and 1 million   \n",
      "4                NaN             NaN  between 100,000 and 1 million   \n",
      "\n",
      "   CodeEventConferences  CodeEventDjangoGirls         ...           \\\n",
      "0                   NaN                   NaN         ...            \n",
      "1                   NaN                   NaN         ...            \n",
      "2                   NaN                   NaN         ...            \n",
      "3                   NaN                   NaN         ...            \n",
      "4                   NaN                   NaN         ...            \n",
      "\n",
      "   YouTubeFCC  YouTubeFunFunFunction  YouTubeGoogleDev  YouTubeLearnCode  \\\n",
      "0         NaN                    NaN               NaN               NaN   \n",
      "1         1.0                    NaN               NaN               NaN   \n",
      "2         NaN                    NaN               NaN               1.0   \n",
      "3         1.0                    1.0               NaN               NaN   \n",
      "4         NaN                    NaN               NaN               NaN   \n",
      "\n",
      "   YouTubeLevelUpTuts  YouTubeMIT  YouTubeMozillaHacks YouTubeOther  \\\n",
      "0                 NaN         NaN                  NaN          NaN   \n",
      "1                 NaN         NaN                  NaN          NaN   \n",
      "2                 1.0         NaN                  NaN          NaN   \n",
      "3                 1.0         NaN                  NaN          NaN   \n",
      "4                 NaN         NaN                  NaN          NaN   \n",
      "\n",
      "   YouTubeSimplilearn  YouTubeTheNewBoston  \n",
      "0                 NaN                  NaN  \n",
      "1                 NaN                  NaN  \n",
      "2                 NaN                  NaN  \n",
      "3                 NaN                  NaN  \n",
      "4                 NaN                  NaN  \n",
      "\n",
      "[5 rows x 136 columns]\n"
     ]
    }
   ],
   "source": [
    "import pandas as pd\n",
    "fcc_survey = pd.read_csv(\"2017-fCC-New-Coders-Survey-Data.csv\", low_memory = 0)\n",
    "print(fcc_survey.shape)\n",
    "print(fcc_survey.head())"
   ]
  },
  {
   "cell_type": "markdown",
   "metadata": {
    "collapsed": true
   },
   "source": [
    "## Checking for Sample Representativity\n",
    "\n",
    "As we mentioned earlier, most of the courses we offer are on web and mobile development, but we also cover many other domains, like data science, game development, etc. For the purpose of our analysis, we want to answer questions about a population of new coders that are interested in the subjects we teach. We'd like to know:\n",
    "\n",
    "   + Where are these new coders located.\n",
    "   + What are the locations with the greatest number of new coders.\n",
    "   + How much money new coders are willing to spend on learning.\n",
    "\n",
    "Before starting to analyze the sample data we have, we need to clarify whether it's representative for our population of interest and it has the right categories of people for our purpose.\n",
    "\n",
    "First, we will analyze 'JobRoleInterest' column to figure out whether the sample we have is representative for our population of interest. 'JobRoleInterest' column describes for every participant the role(s) they'd be interested in working. If a participant is interested in working in a domain, it's likely that the participant is also interested in learning about that domain. "
   ]
  },
  {
   "cell_type": "code",
   "execution_count": 2,
   "metadata": {
    "collapsed": false
   },
   "outputs": [
    {
     "name": "stdout",
     "output_type": "stream",
     "text": [
      "Full-Stack Web Developer                                                                                                                                                                                                                                                    11.770595\n",
      "  Front-End Web Developer                                                                                                                                                                                                                                                    6.435927\n",
      "  Data Scientist                                                                                                                                                                                                                                                             2.173913\n",
      "Back-End Web Developer                                                                                                                                                                                                                                                       2.030892\n",
      "  Mobile Developer                                                                                                                                                                                                                                                           1.673341\n",
      "Game Developer                                                                                                                                                                                                                                                               1.630435\n",
      "Information Security                                                                                                                                                                                                                                                         1.315789\n",
      "Full-Stack Web Developer,   Front-End Web Developer                                                                                                                                                                                                                          0.915332\n",
      "  Front-End Web Developer, Full-Stack Web Developer                                                                                                                                                                                                                          0.800915\n",
      "  Product Manager                                                                                                                                                                                                                                                            0.786613\n",
      "Data Engineer                                                                                                                                                                                                                                                                0.758009\n",
      "  User Experience Designer                                                                                                                                                                                                                                                   0.743707\n",
      "  User Experience Designer,   Front-End Web Developer                                                                                                                                                                                                                        0.614989\n",
      "  Front-End Web Developer, Back-End Web Developer, Full-Stack Web Developer                                                                                                                                                                                                  0.557780\n",
      "Back-End Web Developer, Full-Stack Web Developer,   Front-End Web Developer                                                                                                                                                                                                  0.514874\n",
      "Back-End Web Developer,   Front-End Web Developer, Full-Stack Web Developer                                                                                                                                                                                                  0.514874\n",
      "  DevOps / SysAdmin                                                                                                                                                                                                                                                          0.514874\n",
      "Full-Stack Web Developer,   Front-End Web Developer, Back-End Web Developer                                                                                                                                                                                                  0.443364\n",
      "  Front-End Web Developer, Full-Stack Web Developer, Back-End Web Developer                                                                                                                                                                                                  0.429062\n",
      "  Front-End Web Developer,   User Experience Designer                                                                                                                                                                                                                        0.414760\n",
      "Full-Stack Web Developer,   Mobile Developer                                                                                                                                                                                                                                 0.414760\n",
      "Back-End Web Developer, Full-Stack Web Developer                                                                                                                                                                                                                             0.386156\n",
      "Full-Stack Web Developer, Back-End Web Developer                                                                                                                                                                                                                             0.371854\n",
      "Back-End Web Developer,   Front-End Web Developer                                                                                                                                                                                                                            0.286041\n",
      "Data Engineer,   Data Scientist                                                                                                                                                                                                                                              0.271739\n",
      "Full-Stack Web Developer, Back-End Web Developer,   Front-End Web Developer                                                                                                                                                                                                  0.271739\n",
      "  Front-End Web Developer,   Mobile Developer                                                                                                                                                                                                                                0.257437\n",
      "Full-Stack Web Developer,   Data Scientist                                                                                                                                                                                                                                   0.243135\n",
      "  Data Scientist, Data Engineer                                                                                                                                                                                                                                              0.228833\n",
      "  Mobile Developer, Game Developer                                                                                                                                                                                                                                           0.228833\n",
      "                                                                                                                                                                                                                                                                              ...    \n",
      "Data Engineer, Full-Stack Web Developer,   DevOps / SysAdmin, Game Developer,   Mobile Developer, Back-End Web Developer                                                                                                                                                     0.014302\n",
      "Game Developer,   Data Scientist,   Front-End Web Developer                                                                                                                                                                                                                  0.014302\n",
      "Back-End Web Developer, Data Engineer,   Quality Assurance Engineer,   Front-End Web Developer, Full-Stack Web Developer, Information Security,   Product Manager,   Data Scientist,   Mobile Developer,   User Experience Designer, Game Developer,   DevOps / SysAdmin     0.014302\n",
      "  DevOps / SysAdmin, Back-End Web Developer,   Mobile Developer                                                                                                                                                                                                              0.014302\n",
      "  Mobile Developer,   User Experience Designer, Information Security,   Product Manager, Data Engineer,   Data Scientist, Full-Stack Web Developer, Game Developer, Back-End Web Developer,   Quality Assurance Engineer,   Front-End Web Developer                          0.014302\n",
      "Back-End Web Developer,   Front-End Web Developer,   Mobile Developer, Game Developer,   User Experience Designer, Full-Stack Web Developer                                                                                                                                  0.014302\n",
      "  User Experience Designer,   Front-End Web Developer, Full-Stack Web Developer,   Mobile Developer, Back-End Web Developer                                                                                                                                                  0.014302\n",
      "  DevOps / SysAdmin, Data Engineer,   Mobile Developer,   Data Scientist, Information Security, Game Developer                                                                                                                                                               0.014302\n",
      "  User Experience Designer, Data Engineer,   Mobile Developer, Back-End Web Developer, Full-Stack Web Developer,   Front-End Web Developer, Information Security,   Data Scientist                                                                                           0.014302\n",
      "  Mobile Developer,   Data Scientist, Full-Stack Web Developer, Game Developer                                                                                                                                                                                               0.014302\n",
      "Data Engineer, Back-End Web Developer,   DevOps / SysAdmin                                                                                                                                                                                                                   0.014302\n",
      "  User Experience Designer,   DevOps / SysAdmin, Full-Stack Web Developer, Back-End Web Developer                                                                                                                                                                            0.014302\n",
      "Full-Stack Web Developer, Information Security, Back-End Web Developer, Data Engineer,   Mobile Developer,   Data Scientist,   DevOps / SysAdmin                                                                                                                             0.014302\n",
      "  Front-End Web Developer, Full-Stack Web Developer,   User Experience Designer,   Mobile Developer                                                                                                                                                                          0.014302\n",
      "Full-Stack Web Developer,   Product Manager,   Data Scientist                                                                                                                                                                                                                0.014302\n",
      "  Front-End Web Developer,   Mobile Developer,   User Experience Designer,   Product Manager,   DevOps / SysAdmin                                                                                                                                                            0.014302\n",
      "  Front-End Web Developer,   Quality Assurance Engineer, Full-Stack Web Developer                                                                                                                                                                                            0.014302\n",
      "Data Engineer,   User Experience Designer,   Front-End Web Developer,   Product Manager,   Mobile Developer,   Data Scientist                                                                                                                                                0.014302\n",
      "Data Engineer,   DevOps / SysAdmin                                                                                                                                                                                                                                           0.014302\n",
      "Back-End Web Developer, Full-Stack Web Developer,   Mobile Developer,   DevOps / SysAdmin                                                                                                                                                                                    0.014302\n",
      "Full-Stack Web Developer,   Mobile Developer,   Front-End Web Developer, Data Engineer, Information Security                                                                                                                                                                 0.014302\n",
      "Data Engineer, Back-End Web Developer, Game Developer,   User Experience Designer,   Quality Assurance Engineer, Information Security,   Mobile Developer,   Front-End Web Developer,   DevOps / SysAdmin, Full-Stack Web Developer                                          0.014302\n",
      "Full-Stack Web Developer, Information Security,   Mobile Developer,   DevOps / SysAdmin,   Front-End Web Developer,   Product Manager, Back-End Web Developer                                                                                                                0.014302\n",
      "Back-End Web Developer,   Mobile Developer,   DevOps / SysAdmin, Data Engineer, Full-Stack Web Developer                                                                                                                                                                     0.014302\n",
      "  Mobile Developer, Full-Stack Web Developer, Data Engineer,   User Experience Designer                                                                                                                                                                                      0.014302\n",
      "Game Developer, Data Engineer,   Quality Assurance Engineer,   User Experience Designer,   Product Manager                                                                                                                                                                   0.014302\n",
      "Full-Stack Web Developer,   User Experience Designer,   Front-End Web Developer, Data Engineer, Information Security                                                                                                                                                         0.014302\n",
      "  Mobile Developer, Full-Stack Web Developer,   User Experience Designer, Back-End Web Developer, Game Developer,   Front-End Web Developer                                                                                                                                  0.014302\n",
      "Full-Stack Web Developer, Information Security,   Front-End Web Developer                                                                                                                                                                                                    0.014302\n",
      "  Front-End Web Developer, Full-Stack Web Developer,   DevOps / SysAdmin,   Product Manager, Game Developer                                                                                                                                                                  0.014302\n",
      "Name: JobRoleInterest, Length: 3213, dtype: float64\n"
     ]
    }
   ],
   "source": [
    "#Generate a frequency distribution table for the column.\n",
    "jobrole = fcc_survey['JobRoleInterest'].value_counts(normalize = True) * 100\n",
    "print(jobrole)"
   ]
  },
  {
   "cell_type": "markdown",
   "metadata": {},
   "source": [
    "After taking a quick look at the above frequency table, we can draw several conclusions as follows:\n",
    "\n",
    "   + The results are quite granular.\n",
    "   + The marjority of the participants are interested in roles like web developer.\n",
    "   + a few participants are interested in mobile developer.\n",
    "   + Most of the participants would like to work in web and mobile development areas.\n",
    "   \n",
    "Lots of participants are interested in more than one subject. It means that the participants would like to learn about multiple subjects. This actually is good for us. \n",
    "\n",
    "Next, we will split the domains in job roles to explore the number of options for each respondent. But at first, let's drop non values because we couldn't split non values."
   ]
  },
  {
   "cell_type": "code",
   "execution_count": 3,
   "metadata": {
    "collapsed": false,
    "scrolled": true
   },
   "outputs": [
    {
     "data": {
      "text/plain": [
       "1     31.650458\n",
       "2     10.883867\n",
       "3     15.889588\n",
       "4     15.217391\n",
       "5     12.042334\n",
       "6      6.721968\n",
       "7      3.861556\n",
       "8      1.759153\n",
       "9      0.986842\n",
       "10     0.471968\n",
       "11     0.185927\n",
       "12     0.300343\n",
       "13     0.028604\n",
       "Name: JobRoleInterest, dtype: float64"
      ]
     },
     "execution_count": 3,
     "metadata": {},
     "output_type": "execute_result"
    }
   ],
   "source": [
    "interests_role = fcc_survey['JobRoleInterest'].copy().dropna()\n",
    "interests_role_split = interests_role.str.split(\",\")\n",
    "role_split_number = interests_role_split.apply(lambda x: len(x))\n",
    "role_split_number.value_counts(normalize = True).sort_index() *100"
   ]
  },
  {
   "cell_type": "markdown",
   "metadata": {},
   "source": [
    "We notice that only 31.65% of respondents are interested in only one domain, while the marjority of them are open to more than one subjects.\n",
    "\n",
    "Most of the courses we offer are on web and mobile development. So let's figure out how many participants are interested in at least one of these two areas."
   ]
  },
  {
   "cell_type": "code",
   "execution_count": 4,
   "metadata": {
    "collapsed": false,
    "scrolled": true
   },
   "outputs": [
    {
     "name": "stdout",
     "output_type": "stream",
     "text": [
      "True     86.241419\n",
      "False    13.758581\n",
      "Name: JobRoleInterest, dtype: float64\n"
     ]
    }
   ],
   "source": [
    "web_or_mobile=interests_role.str.contains(\"Web Developer|Mobile Developer\")\n",
    "web_or_mobile_freq = web_or_mobile.value_counts(normalize = True) * 100\n",
    "print(web_or_mobile_freq)"
   ]
  },
  {
   "cell_type": "code",
   "execution_count": 5,
   "metadata": {
    "collapsed": false
   },
   "outputs": [
    {
     "data": {
      "text/plain": [
       "<matplotlib.text.Text at 0x7fb971030c88>"
      ]
     },
     "execution_count": 5,
     "metadata": {},
     "output_type": "execute_result"
    },
    {
     "data": {
      "image/png": "[encoded data removed]",
      "text/plain": [
       "<matplotlib.figure.Figure at 0x7fb971032e10>"
      ]
     },
     "metadata": {},
     "output_type": "display_data"
    }
   ],
   "source": [
    "import matplotlib.pyplot as plt\n",
    "%matplotlib inline\n",
    "plt.style.use(\"fivethirtyeight\")\n",
    "web_or_mobile_freq.plot.barh()\n",
    "plt.title(\"Most participants are interested in Web/Mobile Development\")\n",
    "plt.yticks([0,1], ['Web/Mobile\\n Developer', 'Others'])\n",
    "plt.xlim(0,100)\n",
    "plt.xlabel('Percentage')"
   ]
  },
  {
   "cell_type": "markdown",
   "metadata": {},
   "source": [
    "It turns out that 86% of the participants are interested in web or mobile development. Given the focus of our courses, this sample is completely representative for our population of interest. We want to advertise our courses to people interested in all sorts of programming niches but mostly web or mobile development.\n",
    "\n",
    "Now we need to figure out what are the best markets to advertise our courses."
   ]
  },
  {
   "cell_type": "markdown",
   "metadata": {},
   "source": [
    "## New Coders - Locations and Densities\n",
    "\n",
    "Now that we found out that the sample has the right categories of people for our purpose, we can begin analyzing it. We can start with finding out where these new coders are located, and what are the densities (how many coderes there are) for each location.\n",
    "\n",
    "The data set provides information about the location of each participant at a country level. The \"CountryCitizen\" variable describes the country of origin for each participant, and the \"CountryLive\" variable describes what country each participants lives in (which may be different than the origin country).\n",
    "\n",
    "For our analysis, we'll work with the \"CountryLive\" variable because we're interested where people actually live at the moment when we run the ads. In other words, we're interested where people are located, not where they were born.\n",
    "\n",
    "Because the data set provides information at a country level, we can think of each country as an individual market. This means we can frame our goal as finding the two best countries to advertise in.\n",
    "\n",
    "One indicator of a good market is the number of potential customers — the more potential customers in a market, the better. If our ads manage to convince 10% of the 5000 potential customers in market A to buy our product, then this is better than convincing 100% of the 30 potential customers in market B.\n",
    "\n",
    "To make sure we are working with a representative sample, we need to drop all the rows where participants didn't answer what role they are interested in. Where a participant didn't respond, we can't know for sure what their interests are, so it's better if we leave out this category of participants."
   ]
  },
  {
   "cell_type": "code",
   "execution_count": 6,
   "metadata": {
    "collapsed": false
   },
   "outputs": [
    {
     "name": "stdout",
     "output_type": "stream",
     "text": [
      "0                                                  NaN\n",
      "1                             Full-Stack Web Developer\n",
      "2      Front-End Web Developer, Back-End Web Develo...\n",
      "3      Front-End Web Developer, Full-Stack Web Deve...\n",
      "4    Full-Stack Web Developer, Information Security...\n",
      "Name: JobRoleInterest, dtype: object\n",
      "1                             Full-Stack Web Developer\n",
      "2      Front-End Web Developer, Back-End Web Develo...\n",
      "3      Front-End Web Developer, Full-Stack Web Deve...\n",
      "4    Full-Stack Web Developer, Information Security...\n",
      "6                             Full-Stack Web Developer\n",
      "Name: JobRoleInterest, dtype: object\n"
     ]
    }
   ],
   "source": [
    "#Drop all the rows where 'JobRoleInterest' column has null value.\n",
    "print(fcc_survey['JobRoleInterest'].head())\n",
    "index_names = fcc_survey[fcc_survey['JobRoleInterest'].isnull()].index\n",
    "new_fcc_survey = fcc_survey.drop(index_names).copy()\n",
    "print(new_fcc_survey['JobRoleInterest'].head())"
   ]
  },
  {
   "cell_type": "markdown",
   "metadata": {},
   "source": [
    "With the new survey data, let's generate a frequency table for the \"CountryLive\" variable."
   ]
  },
  {
   "cell_type": "code",
   "execution_count": 7,
   "metadata": {
    "collapsed": false
   },
   "outputs": [
    {
     "name": "stdout",
     "output_type": "stream",
     "text": [
      "United States of America         3125\n",
      "India                             528\n",
      "United Kingdom                    315\n",
      "Canada                            260\n",
      "Poland                            131\n",
      "Brazil                            129\n",
      "Germany                           125\n",
      "Australia                         112\n",
      "Russia                            102\n",
      "Ukraine                            89\n",
      "Nigeria                            84\n",
      "Spain                              77\n",
      "France                             75\n",
      "Romania                            71\n",
      "Netherlands (Holland, Europe)      65\n",
      "Italy                              62\n",
      "Philippines                        52\n",
      "Serbia                             52\n",
      "Greece                             46\n",
      "Ireland                            43\n",
      "South Africa                       39\n",
      "Mexico                             37\n",
      "Turkey                             36\n",
      "Singapore                          34\n",
      "Hungary                            34\n",
      "New Zealand                        33\n",
      "Argentina                          32\n",
      "Croatia                            32\n",
      "Indonesia                          31\n",
      "Pakistan                           31\n",
      "                                 ... \n",
      "Nicaragua                           1\n",
      "Nambia                              1\n",
      "Mozambique                          1\n",
      "Trinidad & Tobago                   1\n",
      "Sudan                               1\n",
      "Cayman Islands                      1\n",
      "Rwanda                              1\n",
      "Liberia                             1\n",
      "Qatar                               1\n",
      "Samoa                               1\n",
      "Gambia                              1\n",
      "Botswana                            1\n",
      "Channel Islands                     1\n",
      "Somalia                             1\n",
      "Cameroon                            1\n",
      "Myanmar                             1\n",
      "Aruba                               1\n",
      "Angola                              1\n",
      "Anguilla                            1\n",
      "Guadeloupe                          1\n",
      "Gibraltar                           1\n",
      "Kyrgyzstan                          1\n",
      "Turkmenistan                        1\n",
      "Yemen                               1\n",
      "Jordan                              1\n",
      "Cuba                                1\n",
      "Guatemala                           1\n",
      "Bolivia                             1\n",
      "Panama                              1\n",
      "Vanuatu                             1\n",
      "Name: CountryLive, Length: 137, dtype: int64\n"
     ]
    }
   ],
   "source": [
    "freq_absolute = new_fcc_survey['CountryLive'].value_counts()\n",
    "print(freq_absolute)"
   ]
  },
  {
   "cell_type": "code",
   "execution_count": 8,
   "metadata": {
    "collapsed": false
   },
   "outputs": [
    {
     "name": "stdout",
     "output_type": "stream",
     "text": [
      "United States of America         45.700497\n",
      "India                             7.721556\n",
      "United Kingdom                    4.606610\n",
      "Canada                            3.802281\n",
      "Poland                            1.915765\n",
      "Brazil                            1.886517\n",
      "Germany                           1.828020\n",
      "Australia                         1.637906\n",
      "Russia                            1.491664\n",
      "Ukraine                           1.301550\n",
      "Nigeria                           1.228429\n",
      "Spain                             1.126060\n",
      "France                            1.096812\n",
      "Romania                           1.038315\n",
      "Netherlands (Holland, Europe)     0.950570\n",
      "Italy                             0.906698\n",
      "Philippines                       0.760456\n",
      "Serbia                            0.760456\n",
      "Greece                            0.672711\n",
      "Ireland                           0.628839\n",
      "South Africa                      0.570342\n",
      "Mexico                            0.541094\n",
      "Turkey                            0.526470\n",
      "Singapore                         0.497221\n",
      "Hungary                           0.497221\n",
      "New Zealand                       0.482597\n",
      "Argentina                         0.467973\n",
      "Croatia                           0.467973\n",
      "Indonesia                         0.453349\n",
      "Pakistan                          0.453349\n",
      "                                   ...    \n",
      "Nicaragua                         0.014624\n",
      "Nambia                            0.014624\n",
      "Mozambique                        0.014624\n",
      "Trinidad & Tobago                 0.014624\n",
      "Sudan                             0.014624\n",
      "Cayman Islands                    0.014624\n",
      "Rwanda                            0.014624\n",
      "Liberia                           0.014624\n",
      "Qatar                             0.014624\n",
      "Samoa                             0.014624\n",
      "Gambia                            0.014624\n",
      "Botswana                          0.014624\n",
      "Channel Islands                   0.014624\n",
      "Somalia                           0.014624\n",
      "Cameroon                          0.014624\n",
      "Myanmar                           0.014624\n",
      "Aruba                             0.014624\n",
      "Angola                            0.014624\n",
      "Anguilla                          0.014624\n",
      "Guadeloupe                        0.014624\n",
      "Gibraltar                         0.014624\n",
      "Kyrgyzstan                        0.014624\n",
      "Turkmenistan                      0.014624\n",
      "Yemen                             0.014624\n",
      "Jordan                            0.014624\n",
      "Cuba                              0.014624\n",
      "Guatemala                         0.014624\n",
      "Bolivia                           0.014624\n",
      "Panama                            0.014624\n",
      "Vanuatu                           0.014624\n",
      "Name: CountryLive, Length: 137, dtype: float64\n"
     ]
    }
   ],
   "source": [
    "freq_relative = new_fcc_survey['CountryLive'].value_counts(normalize = True) * 100\n",
    "print(freq_relative)"
   ]
  },
  {
   "cell_type": "markdown",
   "metadata": {},
   "source": [
    "Based on the relative frequency table, about half of the participants live in the USA. 7% of the respondents live in India, which has a little bit more students than the United Kingdom and Canada. So the two most promising markets we would choose for advertisement are United States of America and India. \n",
    "\n",
    "This information is useful. However, we need to explore more in depth to figure out how much money people are willing to spend for learning. Advertising in high-density markets where most people are only willing to learn for free is extremely unlikely to be profitable for us."
   ]
  },
  {
   "cell_type": "markdown",
   "metadata": {},
   "source": [
    "## Spending Money for Learning\n",
    "\n",
    "The \"MoneyForLearning\" column describes in American dollars the amount of money spent by participants from the moment they started coding until the moment they completed the survey. Our company currently sells subscriptions at a price of $59 per month, and for this reason we're interested in finding out how much money each student spends per month.\n",
    "\n",
    "It also seems like a good idea to narrow down our analysis to only four countries: the US, India, the United Kingdom, and Canada. Two reasons for this decision are:\n",
    "   + These are the countries having the highest absolute frequencies in our sample, which means we have a decent amount of data for each.\n",
    "   + Our courses are written in English, and English is an official language in all these four countries. The more people that know English, the better our chances to target the right people with our ads.\n",
    "   \n",
    "We don't have a column for the amount of money a student has spent per month in the data set. We need to create such a column by dividing the 'MoneyForLearning' column to the 'MonthsProgramming' column. In addition, some respondents answered that they had been learning to code for 0 months (it might be that they had just started when they completed the survey). To avoid dividing by 0, we need to replace all the values of 0 with 1."
   ]
  },
  {
   "cell_type": "code",
   "execution_count": 9,
   "metadata": {
    "collapsed": false
   },
   "outputs": [
    {
     "name": "stdout",
     "output_type": "stream",
     "text": [
      "1     6.0\n",
      "2     5.0\n",
      "3     5.0\n",
      "4    24.0\n",
      "6    12.0\n",
      "Name: MonthsProgramming, dtype: float64\n"
     ]
    }
   ],
   "source": [
    "print(new_fcc_survey['MonthsProgramming'].head())"
   ]
  },
  {
   "cell_type": "code",
   "execution_count": 10,
   "metadata": {
    "collapsed": false
   },
   "outputs": [
    {
     "name": "stdout",
     "output_type": "stream",
     "text": [
      "1      80.0\n",
      "2    1000.0\n",
      "3       0.0\n",
      "4       0.0\n",
      "6       0.0\n",
      "Name: MoneyForLearning, dtype: float64\n"
     ]
    }
   ],
   "source": [
    "print(new_fcc_survey['MoneyForLearning'].head())"
   ]
  },
  {
   "cell_type": "code",
   "execution_count": 11,
   "metadata": {
    "collapsed": false
   },
   "outputs": [],
   "source": [
    "beginner= new_fcc_survey['MonthsProgramming']==0\n",
    "new_fcc_survey.loc[beginner,'MonthsProgramming']= 1\n",
    "new_fcc_survey['MonthlyPayment'] = new_fcc_survey['MoneyForLearning'] / new_fcc_survey['MonthsProgramming']\n",
    "new_fcc_survey = new_fcc_survey[new_fcc_survey['MonthlyPayment'].notnull()]"
   ]
  },
  {
   "cell_type": "markdown",
   "metadata": {},
   "source": [
    "Let's keep only the rows that don't have a null values in the 'CountryLive' column."
   ]
  },
  {
   "cell_type": "code",
   "execution_count": 12,
   "metadata": {
    "collapsed": false
   },
   "outputs": [
    {
     "data": {
      "text/plain": [
       "United States of America    2933\n",
       "India                        463\n",
       "United Kingdom               279\n",
       "Canada                       240\n",
       "Poland                       122\n",
       "Name: CountryLive, dtype: int64"
      ]
     },
     "execution_count": 12,
     "metadata": {},
     "output_type": "execute_result"
    }
   ],
   "source": [
    "new_fcc_survey = new_fcc_survey[new_fcc_survey['CountryLive'].notnull()].copy()\n",
    "new_fcc_survey['CountryLive'].value_counts().head()"
   ]
  },
  {
   "cell_type": "markdown",
   "metadata": {},
   "source": [
    "We can group the remaining data by the 'CountryLive' Column and find out how much money a student spends on average each month in the US, India, the United Kingdom and Canada."
   ]
  },
  {
   "cell_type": "code",
   "execution_count": 13,
   "metadata": {
    "collapsed": false
   },
   "outputs": [
    {
     "name": "stdout",
     "output_type": "stream",
     "text": [
      "CountryLive\n",
      "United States of America    227.997996\n",
      "India                       135.100982\n",
      "United Kingdom               45.534443\n",
      "Canada                      113.510961\n",
      "Name: MonthlyPayment, dtype: float64\n"
     ]
    }
   ],
   "source": [
    "fcc_mean = new_fcc_survey.groupby(['CountryLive']).mean()['MonthlyPayment']\n",
    "print(fcc_mean[['United States of America', 'India', 'United Kingdom', 'Canada']])"
   ]
  },
  {
   "cell_type": "markdown",
   "metadata": {},
   "source": [
    "We are also interested in the median and the mode of the 'MonthlyPayment' column. Let's calculate them and compare them with the mean."
   ]
  },
  {
   "cell_type": "code",
   "execution_count": 14,
   "metadata": {
    "collapsed": false
   },
   "outputs": [
    {
     "name": "stdout",
     "output_type": "stream",
     "text": [
      "CountryLive\n",
      "United States of America    3.333333\n",
      "India                       0.000000\n",
      "United Kingdom              0.000000\n",
      "Canada                      0.000000\n",
      "Name: MonthlyPayment, dtype: float64\n"
     ]
    }
   ],
   "source": [
    "fcc_median = new_fcc_survey.groupby(['CountryLive'])['MonthlyPayment'].median()\n",
    "print(fcc_median[['United States of America', 'India', 'United Kingdom', 'Canada']])"
   ]
  },
  {
   "cell_type": "code",
   "execution_count": 15,
   "metadata": {
    "collapsed": false
   },
   "outputs": [
    {
     "data": {
      "text/plain": [
       "0    0.0\n",
       "dtype: float64"
      ]
     },
     "execution_count": 15,
     "metadata": {},
     "output_type": "execute_result"
    }
   ],
   "source": [
    "new_fcc_survey[new_fcc_survey['CountryLive']=='United States of America']['MonthlyPayment'].mode()"
   ]
  },
  {
   "cell_type": "code",
   "execution_count": 16,
   "metadata": {
    "collapsed": false
   },
   "outputs": [
    {
     "data": {
      "text/plain": [
       "0    0.0\n",
       "dtype: float64"
      ]
     },
     "execution_count": 16,
     "metadata": {},
     "output_type": "execute_result"
    }
   ],
   "source": [
    "new_fcc_survey[new_fcc_survey['CountryLive']=='India']['MonthlyPayment'].mode()"
   ]
  },
  {
   "cell_type": "code",
   "execution_count": 17,
   "metadata": {
    "collapsed": false
   },
   "outputs": [
    {
     "data": {
      "text/plain": [
       "0    0.0\n",
       "dtype: float64"
      ]
     },
     "execution_count": 17,
     "metadata": {},
     "output_type": "execute_result"
    }
   ],
   "source": [
    "new_fcc_survey[new_fcc_survey['CountryLive']=='United Kingdom']['MonthlyPayment'].mode()"
   ]
  },
  {
   "cell_type": "code",
   "execution_count": 18,
   "metadata": {
    "collapsed": false
   },
   "outputs": [
    {
     "data": {
      "text/plain": [
       "0    0.0\n",
       "dtype: float64"
      ]
     },
     "execution_count": 18,
     "metadata": {},
     "output_type": "execute_result"
    }
   ],
   "source": [
    "new_fcc_survey[new_fcc_survey['CountryLive']=='Canada']['MonthlyPayment'].mode()"
   ]
  },
  {
   "cell_type": "markdown",
   "metadata": {},
   "source": [
    "Since 'MonthlyPayment' column contains a variable measured on a ratio scale, the mean is the best way to describe the average for the values. \n",
    "\n",
    "Comparing the mean of the money spent on learning for the participants in the four countries, it is surprising that students in India spend more money monthly than those live in Canada and the United Kingdom. This is probably that we don't have enough representative samples for Canada and the United Kingdom. Or there might be outliers (maybe coming from wrong survey answers) in the data for India or Canada or the United Kingdom. Or it might be the correct result."
   ]
  },
  {
   "cell_type": "markdown",
   "metadata": {
    "collapsed": true
   },
   "source": [
    "## Dealing with Extreme Outliers\n",
    "\n",
    "To identify any outliers in the data set, we will generate box plots for the 'MonthlyPayment' column with each country (the United States of America, India, the United Kingdom, and Canada) to visualize the distribution of the variable."
   ]
  },
  {
   "cell_type": "code",
   "execution_count": 19,
   "metadata": {
    "collapsed": false
   },
   "outputs": [
    {
     "name": "stderr",
     "output_type": "stream",
     "text": [
      "/dataquest/system/env/python3/lib/python3.4/site-packages/seaborn/categorical.py:454: FutureWarning:\n",
      "\n",
      "remove_na is deprecated and is a private function. Do not use.\n",
      "\n"
     ]
    },
    {
     "data": {
      "image/png": "[encoded data removed]",
      "text/plain": [
       "<matplotlib.figure.Figure at 0x7fb9c1145278>"
      ]
     },
     "metadata": {},
     "output_type": "display_data"
    }
   ],
   "source": [
    "four_countries = new_fcc_survey[new_fcc_survey['CountryLive'].str.contains('United States of America|India|United Kingdom|Canada')]\n",
    "import seaborn as sns\n",
    "sns.boxplot(x= 'CountryLive', y = 'MonthlyPayment', data = four_countries)\n",
    "plt.title(\"Monthly payment for learning in different countries\", fontsize = 16)\n",
    "plt.show()"
   ]
  },
  {
   "cell_type": "markdown",
   "metadata": {},
   "source": [
    "From the above box plot, we don't find any extreme outliers for India, compared with the United Kingdom and Canada. However, there are two students in the United States of America spending \\$50000 and \\$80000 per month for learning, which is impossible. Next, we will eliminate those outliers who spend more than \\$20000 per month."
   ]
  },
  {
   "cell_type": "code",
   "execution_count": 20,
   "metadata": {
    "collapsed": true
   },
   "outputs": [],
   "source": [
    "wo_outliers = four_countries[four_countries['MonthlyPayment']<20000]"
   ]
  },
  {
   "cell_type": "markdown",
   "metadata": {},
   "source": [
    "Let's recalculate the mean and regenerate the box plot to show the distributions."
   ]
  },
  {
   "cell_type": "code",
   "execution_count": 21,
   "metadata": {
    "collapsed": false
   },
   "outputs": [
    {
     "data": {
      "text/html": [
       "<div>\n",
       "<style scoped>\n",
       "    .dataframe tbody tr th:only-of-type {\n",
       "        vertical-align: middle;\n",
       "    }\n",
       "\n",
       "    .dataframe tbody tr th {\n",
       "        vertical-align: top;\n",
       "    }\n",
       "\n",
       "    .dataframe thead th {\n",
       "        text-align: right;\n",
       "    }\n",
       "</style>\n",
       "<table border=\"1\" class=\"dataframe\">\n",
       "  <thead>\n",
       "    <tr style=\"text-align: right;\">\n",
       "      <th></th>\n",
       "      <th>MonthlyPayment</th>\n",
       "    </tr>\n",
       "    <tr>\n",
       "      <th>CountryLive</th>\n",
       "      <th></th>\n",
       "    </tr>\n",
       "  </thead>\n",
       "  <tbody>\n",
       "    <tr>\n",
       "      <th>Canada</th>\n",
       "      <td>113.510961</td>\n",
       "    </tr>\n",
       "    <tr>\n",
       "      <th>India</th>\n",
       "      <td>135.100982</td>\n",
       "    </tr>\n",
       "    <tr>\n",
       "      <th>United Kingdom</th>\n",
       "      <td>45.534443</td>\n",
       "    </tr>\n",
       "    <tr>\n",
       "      <th>United States of America</th>\n",
       "      <td>183.800110</td>\n",
       "    </tr>\n",
       "  </tbody>\n",
       "</table>\n",
       "</div>"
      ],
      "text/plain": [
       "                          MonthlyPayment\n",
       "CountryLive                             \n",
       "Canada                        113.510961\n",
       "India                         135.100982\n",
       "United Kingdom                 45.534443\n",
       "United States of America      183.800110"
      ]
     },
     "execution_count": 21,
     "metadata": {},
     "output_type": "execute_result"
    }
   ],
   "source": [
    "wo_outliers.pivot_table('MonthlyPayment', 'CountryLive')"
   ]
  },
  {
   "cell_type": "code",
   "execution_count": 22,
   "metadata": {
    "collapsed": false
   },
   "outputs": [
    {
     "name": "stderr",
     "output_type": "stream",
     "text": [
      "/dataquest/system/env/python3/lib/python3.4/site-packages/seaborn/categorical.py:454: FutureWarning:\n",
      "\n",
      "remove_na is deprecated and is a private function. Do not use.\n",
      "\n"
     ]
    },
    {
     "data": {
      "image/png": "[encoded data removed]",
      "text/plain": [
       "<matplotlib.figure.Figure at 0x7fb97092feb8>"
      ]
     },
     "metadata": {},
     "output_type": "display_data"
    }
   ],
   "source": [
    "sns.boxplot(x= 'CountryLive', y = 'MonthlyPayment', data = wo_outliers)\n",
    "plt.title(\"Monthly payment for learning in different countries\", fontsize = 16)\n",
    "plt.show()"
   ]
  },
  {
   "cell_type": "markdown",
   "metadata": {},
   "source": [
    "Without the extreme outliers, we can observe the box plot in detail. It's interesting to notice that several participants in India spend more than \\$3000 per month for learning. Let's take a look at the answers from these students."
   ]
  },
  {
   "cell_type": "code",
   "execution_count": 23,
   "metadata": {
    "collapsed": false
   },
   "outputs": [
    {
     "data": {
      "text/html": [
       "<div>\n",
       "<style scoped>\n",
       "    .dataframe tbody tr th:only-of-type {\n",
       "        vertical-align: middle;\n",
       "    }\n",
       "\n",
       "    .dataframe tbody tr th {\n",
       "        vertical-align: top;\n",
       "    }\n",
       "\n",
       "    .dataframe thead th {\n",
       "        text-align: right;\n",
       "    }\n",
       "</style>\n",
       "<table border=\"1\" class=\"dataframe\">\n",
       "  <thead>\n",
       "    <tr style=\"text-align: right;\">\n",
       "      <th></th>\n",
       "      <th>Age</th>\n",
       "      <th>AttendedBootcamp</th>\n",
       "      <th>BootcampFinish</th>\n",
       "      <th>BootcampLoanYesNo</th>\n",
       "      <th>BootcampName</th>\n",
       "      <th>BootcampRecommend</th>\n",
       "      <th>ChildrenNumber</th>\n",
       "      <th>CityPopulation</th>\n",
       "      <th>CodeEventConferences</th>\n",
       "      <th>CodeEventDjangoGirls</th>\n",
       "      <th>...</th>\n",
       "      <th>YouTubeFunFunFunction</th>\n",
       "      <th>YouTubeGoogleDev</th>\n",
       "      <th>YouTubeLearnCode</th>\n",
       "      <th>YouTubeLevelUpTuts</th>\n",
       "      <th>YouTubeMIT</th>\n",
       "      <th>YouTubeMozillaHacks</th>\n",
       "      <th>YouTubeOther</th>\n",
       "      <th>YouTubeSimplilearn</th>\n",
       "      <th>YouTubeTheNewBoston</th>\n",
       "      <th>MonthlyPayment</th>\n",
       "    </tr>\n",
       "  </thead>\n",
       "  <tbody>\n",
       "    <tr>\n",
       "      <th>1728</th>\n",
       "      <td>24.0</td>\n",
       "      <td>0.0</td>\n",
       "      <td>NaN</td>\n",
       "      <td>NaN</td>\n",
       "      <td>NaN</td>\n",
       "      <td>NaN</td>\n",
       "      <td>NaN</td>\n",
       "      <td>between 100,000 and 1 million</td>\n",
       "      <td>NaN</td>\n",
       "      <td>NaN</td>\n",
       "      <td>...</td>\n",
       "      <td>NaN</td>\n",
       "      <td>NaN</td>\n",
       "      <td>NaN</td>\n",
       "      <td>NaN</td>\n",
       "      <td>NaN</td>\n",
       "      <td>NaN</td>\n",
       "      <td>NaN</td>\n",
       "      <td>NaN</td>\n",
       "      <td>NaN</td>\n",
       "      <td>5000.000000</td>\n",
       "    </tr>\n",
       "    <tr>\n",
       "      <th>1755</th>\n",
       "      <td>20.0</td>\n",
       "      <td>0.0</td>\n",
       "      <td>NaN</td>\n",
       "      <td>NaN</td>\n",
       "      <td>NaN</td>\n",
       "      <td>NaN</td>\n",
       "      <td>NaN</td>\n",
       "      <td>more than 1 million</td>\n",
       "      <td>NaN</td>\n",
       "      <td>NaN</td>\n",
       "      <td>...</td>\n",
       "      <td>NaN</td>\n",
       "      <td>NaN</td>\n",
       "      <td>1.0</td>\n",
       "      <td>NaN</td>\n",
       "      <td>1.0</td>\n",
       "      <td>NaN</td>\n",
       "      <td>NaN</td>\n",
       "      <td>NaN</td>\n",
       "      <td>NaN</td>\n",
       "      <td>3333.333333</td>\n",
       "    </tr>\n",
       "    <tr>\n",
       "      <th>7989</th>\n",
       "      <td>28.0</td>\n",
       "      <td>0.0</td>\n",
       "      <td>NaN</td>\n",
       "      <td>NaN</td>\n",
       "      <td>NaN</td>\n",
       "      <td>NaN</td>\n",
       "      <td>NaN</td>\n",
       "      <td>between 100,000 and 1 million</td>\n",
       "      <td>1.0</td>\n",
       "      <td>NaN</td>\n",
       "      <td>...</td>\n",
       "      <td>NaN</td>\n",
       "      <td>NaN</td>\n",
       "      <td>NaN</td>\n",
       "      <td>NaN</td>\n",
       "      <td>NaN</td>\n",
       "      <td>NaN</td>\n",
       "      <td>NaN</td>\n",
       "      <td>NaN</td>\n",
       "      <td>NaN</td>\n",
       "      <td>5000.000000</td>\n",
       "    </tr>\n",
       "    <tr>\n",
       "      <th>8126</th>\n",
       "      <td>22.0</td>\n",
       "      <td>0.0</td>\n",
       "      <td>NaN</td>\n",
       "      <td>NaN</td>\n",
       "      <td>NaN</td>\n",
       "      <td>NaN</td>\n",
       "      <td>NaN</td>\n",
       "      <td>more than 1 million</td>\n",
       "      <td>NaN</td>\n",
       "      <td>NaN</td>\n",
       "      <td>...</td>\n",
       "      <td>NaN</td>\n",
       "      <td>1.0</td>\n",
       "      <td>NaN</td>\n",
       "      <td>NaN</td>\n",
       "      <td>1.0</td>\n",
       "      <td>NaN</td>\n",
       "      <td>NaN</td>\n",
       "      <td>NaN</td>\n",
       "      <td>1.0</td>\n",
       "      <td>5000.000000</td>\n",
       "    </tr>\n",
       "    <tr>\n",
       "      <th>13398</th>\n",
       "      <td>19.0</td>\n",
       "      <td>0.0</td>\n",
       "      <td>NaN</td>\n",
       "      <td>NaN</td>\n",
       "      <td>NaN</td>\n",
       "      <td>NaN</td>\n",
       "      <td>NaN</td>\n",
       "      <td>more than 1 million</td>\n",
       "      <td>NaN</td>\n",
       "      <td>NaN</td>\n",
       "      <td>...</td>\n",
       "      <td>NaN</td>\n",
       "      <td>NaN</td>\n",
       "      <td>NaN</td>\n",
       "      <td>NaN</td>\n",
       "      <td>NaN</td>\n",
       "      <td>NaN</td>\n",
       "      <td>NaN</td>\n",
       "      <td>NaN</td>\n",
       "      <td>NaN</td>\n",
       "      <td>10000.000000</td>\n",
       "    </tr>\n",
       "    <tr>\n",
       "      <th>15587</th>\n",
       "      <td>27.0</td>\n",
       "      <td>0.0</td>\n",
       "      <td>NaN</td>\n",
       "      <td>NaN</td>\n",
       "      <td>NaN</td>\n",
       "      <td>NaN</td>\n",
       "      <td>NaN</td>\n",
       "      <td>more than 1 million</td>\n",
       "      <td>NaN</td>\n",
       "      <td>NaN</td>\n",
       "      <td>...</td>\n",
       "      <td>NaN</td>\n",
       "      <td>1.0</td>\n",
       "      <td>1.0</td>\n",
       "      <td>NaN</td>\n",
       "      <td>1.0</td>\n",
       "      <td>NaN</td>\n",
       "      <td>NaN</td>\n",
       "      <td>NaN</td>\n",
       "      <td>NaN</td>\n",
       "      <td>4166.666667</td>\n",
       "    </tr>\n",
       "  </tbody>\n",
       "</table>\n",
       "<p>6 rows × 137 columns</p>\n",
       "</div>"
      ],
      "text/plain": [
       "        Age  AttendedBootcamp  BootcampFinish  BootcampLoanYesNo BootcampName  \\\n",
       "1728   24.0               0.0             NaN                NaN          NaN   \n",
       "1755   20.0               0.0             NaN                NaN          NaN   \n",
       "7989   28.0               0.0             NaN                NaN          NaN   \n",
       "8126   22.0               0.0             NaN                NaN          NaN   \n",
       "13398  19.0               0.0             NaN                NaN          NaN   \n",
       "15587  27.0               0.0             NaN                NaN          NaN   \n",
       "\n",
       "       BootcampRecommend  ChildrenNumber                 CityPopulation  \\\n",
       "1728                 NaN             NaN  between 100,000 and 1 million   \n",
       "1755                 NaN             NaN            more than 1 million   \n",
       "7989                 NaN             NaN  between 100,000 and 1 million   \n",
       "8126                 NaN             NaN            more than 1 million   \n",
       "13398                NaN             NaN            more than 1 million   \n",
       "15587                NaN             NaN            more than 1 million   \n",
       "\n",
       "       CodeEventConferences  CodeEventDjangoGirls       ...        \\\n",
       "1728                    NaN                   NaN       ...         \n",
       "1755                    NaN                   NaN       ...         \n",
       "7989                    1.0                   NaN       ...         \n",
       "8126                    NaN                   NaN       ...         \n",
       "13398                   NaN                   NaN       ...         \n",
       "15587                   NaN                   NaN       ...         \n",
       "\n",
       "       YouTubeFunFunFunction  YouTubeGoogleDev  YouTubeLearnCode  \\\n",
       "1728                     NaN               NaN               NaN   \n",
       "1755                     NaN               NaN               1.0   \n",
       "7989                     NaN               NaN               NaN   \n",
       "8126                     NaN               1.0               NaN   \n",
       "13398                    NaN               NaN               NaN   \n",
       "15587                    NaN               1.0               1.0   \n",
       "\n",
       "       YouTubeLevelUpTuts  YouTubeMIT  YouTubeMozillaHacks  YouTubeOther  \\\n",
       "1728                  NaN         NaN                  NaN           NaN   \n",
       "1755                  NaN         1.0                  NaN           NaN   \n",
       "7989                  NaN         NaN                  NaN           NaN   \n",
       "8126                  NaN         1.0                  NaN           NaN   \n",
       "13398                 NaN         NaN                  NaN           NaN   \n",
       "15587                 NaN         1.0                  NaN           NaN   \n",
       "\n",
       "      YouTubeSimplilearn  YouTubeTheNewBoston  MonthlyPayment  \n",
       "1728                 NaN                  NaN     5000.000000  \n",
       "1755                 NaN                  NaN     3333.333333  \n",
       "7989                 NaN                  NaN     5000.000000  \n",
       "8126                 NaN                  1.0     5000.000000  \n",
       "13398                NaN                  NaN    10000.000000  \n",
       "15587                NaN                  NaN     4166.666667  \n",
       "\n",
       "[6 rows x 137 columns]"
      ]
     },
     "execution_count": 23,
     "metadata": {},
     "output_type": "execute_result"
    }
   ],
   "source": [
    "india_outlier = wo_outliers[(wo_outliers['CountryLive']=='India') & (wo_outliers['MonthlyPayment']>3000)]\n",
    "india_outlier"
   ]
  },
  {
   "cell_type": "markdown",
   "metadata": {},
   "source": [
    "It looks like that all of the six outliers didn't attend to any bootcamps. It is hard to figure out whether these persons really spent that much money for learning. The actual question of the survey was \"Aside from university tuition, about how much money have you spent on learning to code so far (in US dollars)?\", so they might have misunderstood and thought university tuition is included. It seems safer to remove these rows.   "
   ]
  },
  {
   "cell_type": "code",
   "execution_count": 24,
   "metadata": {
    "collapsed": true
   },
   "outputs": [],
   "source": [
    "wo_outliers = wo_outliers.drop(india_outlier.index)"
   ]
  },
  {
   "cell_type": "markdown",
   "metadata": {},
   "source": [
    "There are still a few respondents who would like to spend more than \\$6000 a month for learning, which is a little too much than the average. Next, we will handle these outliers."
   ]
  },
  {
   "cell_type": "code",
   "execution_count": 25,
   "metadata": {
    "collapsed": false
   },
   "outputs": [
    {
     "data": {
      "text/html": [
       "<div>\n",
       "<style scoped>\n",
       "    .dataframe tbody tr th:only-of-type {\n",
       "        vertical-align: middle;\n",
       "    }\n",
       "\n",
       "    .dataframe tbody tr th {\n",
       "        vertical-align: top;\n",
       "    }\n",
       "\n",
       "    .dataframe thead th {\n",
       "        text-align: right;\n",
       "    }\n",
       "</style>\n",
       "<table border=\"1\" class=\"dataframe\">\n",
       "  <thead>\n",
       "    <tr style=\"text-align: right;\">\n",
       "      <th></th>\n",
       "      <th>Age</th>\n",
       "      <th>AttendedBootcamp</th>\n",
       "      <th>BootcampFinish</th>\n",
       "      <th>BootcampLoanYesNo</th>\n",
       "      <th>BootcampName</th>\n",
       "      <th>BootcampRecommend</th>\n",
       "      <th>ChildrenNumber</th>\n",
       "      <th>CityPopulation</th>\n",
       "      <th>CodeEventConferences</th>\n",
       "      <th>CodeEventDjangoGirls</th>\n",
       "      <th>...</th>\n",
       "      <th>YouTubeFunFunFunction</th>\n",
       "      <th>YouTubeGoogleDev</th>\n",
       "      <th>YouTubeLearnCode</th>\n",
       "      <th>YouTubeLevelUpTuts</th>\n",
       "      <th>YouTubeMIT</th>\n",
       "      <th>YouTubeMozillaHacks</th>\n",
       "      <th>YouTubeOther</th>\n",
       "      <th>YouTubeSimplilearn</th>\n",
       "      <th>YouTubeTheNewBoston</th>\n",
       "      <th>MonthlyPayment</th>\n",
       "    </tr>\n",
       "  </thead>\n",
       "  <tbody>\n",
       "    <tr>\n",
       "      <th>718</th>\n",
       "      <td>26.0</td>\n",
       "      <td>1.0</td>\n",
       "      <td>0.0</td>\n",
       "      <td>0.0</td>\n",
       "      <td>The Coding Boot Camp at UCLA Extension</td>\n",
       "      <td>1.0</td>\n",
       "      <td>NaN</td>\n",
       "      <td>more than 1 million</td>\n",
       "      <td>1.0</td>\n",
       "      <td>NaN</td>\n",
       "      <td>...</td>\n",
       "      <td>NaN</td>\n",
       "      <td>NaN</td>\n",
       "      <td>NaN</td>\n",
       "      <td>NaN</td>\n",
       "      <td>NaN</td>\n",
       "      <td>NaN</td>\n",
       "      <td>NaN</td>\n",
       "      <td>NaN</td>\n",
       "      <td>NaN</td>\n",
       "      <td>8000.000000</td>\n",
       "    </tr>\n",
       "    <tr>\n",
       "      <th>1222</th>\n",
       "      <td>32.0</td>\n",
       "      <td>1.0</td>\n",
       "      <td>0.0</td>\n",
       "      <td>0.0</td>\n",
       "      <td>The Iron Yard</td>\n",
       "      <td>1.0</td>\n",
       "      <td>NaN</td>\n",
       "      <td>between 100,000 and 1 million</td>\n",
       "      <td>NaN</td>\n",
       "      <td>NaN</td>\n",
       "      <td>...</td>\n",
       "      <td>NaN</td>\n",
       "      <td>NaN</td>\n",
       "      <td>1.0</td>\n",
       "      <td>NaN</td>\n",
       "      <td>NaN</td>\n",
       "      <td>NaN</td>\n",
       "      <td>NaN</td>\n",
       "      <td>NaN</td>\n",
       "      <td>NaN</td>\n",
       "      <td>6500.000000</td>\n",
       "    </tr>\n",
       "    <tr>\n",
       "      <th>3184</th>\n",
       "      <td>34.0</td>\n",
       "      <td>1.0</td>\n",
       "      <td>1.0</td>\n",
       "      <td>0.0</td>\n",
       "      <td>We Can Code IT</td>\n",
       "      <td>1.0</td>\n",
       "      <td>NaN</td>\n",
       "      <td>more than 1 million</td>\n",
       "      <td>NaN</td>\n",
       "      <td>NaN</td>\n",
       "      <td>...</td>\n",
       "      <td>NaN</td>\n",
       "      <td>NaN</td>\n",
       "      <td>NaN</td>\n",
       "      <td>NaN</td>\n",
       "      <td>NaN</td>\n",
       "      <td>NaN</td>\n",
       "      <td>NaN</td>\n",
       "      <td>NaN</td>\n",
       "      <td>NaN</td>\n",
       "      <td>9000.000000</td>\n",
       "    </tr>\n",
       "    <tr>\n",
       "      <th>3930</th>\n",
       "      <td>31.0</td>\n",
       "      <td>0.0</td>\n",
       "      <td>NaN</td>\n",
       "      <td>NaN</td>\n",
       "      <td>NaN</td>\n",
       "      <td>NaN</td>\n",
       "      <td>NaN</td>\n",
       "      <td>between 100,000 and 1 million</td>\n",
       "      <td>NaN</td>\n",
       "      <td>NaN</td>\n",
       "      <td>...</td>\n",
       "      <td>1.0</td>\n",
       "      <td>1.0</td>\n",
       "      <td>1.0</td>\n",
       "      <td>1.0</td>\n",
       "      <td>1.0</td>\n",
       "      <td>NaN</td>\n",
       "      <td>various conf presentations</td>\n",
       "      <td>NaN</td>\n",
       "      <td>NaN</td>\n",
       "      <td>10833.333333</td>\n",
       "    </tr>\n",
       "    <tr>\n",
       "      <th>6805</th>\n",
       "      <td>46.0</td>\n",
       "      <td>1.0</td>\n",
       "      <td>1.0</td>\n",
       "      <td>1.0</td>\n",
       "      <td>Sabio.la</td>\n",
       "      <td>0.0</td>\n",
       "      <td>NaN</td>\n",
       "      <td>between 100,000 and 1 million</td>\n",
       "      <td>NaN</td>\n",
       "      <td>NaN</td>\n",
       "      <td>...</td>\n",
       "      <td>NaN</td>\n",
       "      <td>NaN</td>\n",
       "      <td>NaN</td>\n",
       "      <td>NaN</td>\n",
       "      <td>NaN</td>\n",
       "      <td>NaN</td>\n",
       "      <td>NaN</td>\n",
       "      <td>NaN</td>\n",
       "      <td>NaN</td>\n",
       "      <td>15000.000000</td>\n",
       "    </tr>\n",
       "    <tr>\n",
       "      <th>7198</th>\n",
       "      <td>32.0</td>\n",
       "      <td>0.0</td>\n",
       "      <td>NaN</td>\n",
       "      <td>NaN</td>\n",
       "      <td>NaN</td>\n",
       "      <td>NaN</td>\n",
       "      <td>NaN</td>\n",
       "      <td>more than 1 million</td>\n",
       "      <td>1.0</td>\n",
       "      <td>NaN</td>\n",
       "      <td>...</td>\n",
       "      <td>NaN</td>\n",
       "      <td>1.0</td>\n",
       "      <td>1.0</td>\n",
       "      <td>1.0</td>\n",
       "      <td>NaN</td>\n",
       "      <td>NaN</td>\n",
       "      <td>NaN</td>\n",
       "      <td>NaN</td>\n",
       "      <td>NaN</td>\n",
       "      <td>14000.000000</td>\n",
       "    </tr>\n",
       "    <tr>\n",
       "      <th>7505</th>\n",
       "      <td>26.0</td>\n",
       "      <td>1.0</td>\n",
       "      <td>0.0</td>\n",
       "      <td>1.0</td>\n",
       "      <td>Codeup</td>\n",
       "      <td>0.0</td>\n",
       "      <td>NaN</td>\n",
       "      <td>more than 1 million</td>\n",
       "      <td>NaN</td>\n",
       "      <td>NaN</td>\n",
       "      <td>...</td>\n",
       "      <td>NaN</td>\n",
       "      <td>NaN</td>\n",
       "      <td>NaN</td>\n",
       "      <td>NaN</td>\n",
       "      <td>1.0</td>\n",
       "      <td>NaN</td>\n",
       "      <td>NaN</td>\n",
       "      <td>NaN</td>\n",
       "      <td>NaN</td>\n",
       "      <td>6666.666667</td>\n",
       "    </tr>\n",
       "    <tr>\n",
       "      <th>9778</th>\n",
       "      <td>33.0</td>\n",
       "      <td>1.0</td>\n",
       "      <td>0.0</td>\n",
       "      <td>1.0</td>\n",
       "      <td>Grand Circus</td>\n",
       "      <td>1.0</td>\n",
       "      <td>NaN</td>\n",
       "      <td>between 100,000 and 1 million</td>\n",
       "      <td>NaN</td>\n",
       "      <td>NaN</td>\n",
       "      <td>...</td>\n",
       "      <td>NaN</td>\n",
       "      <td>NaN</td>\n",
       "      <td>NaN</td>\n",
       "      <td>NaN</td>\n",
       "      <td>NaN</td>\n",
       "      <td>NaN</td>\n",
       "      <td>NaN</td>\n",
       "      <td>NaN</td>\n",
       "      <td>NaN</td>\n",
       "      <td>8000.000000</td>\n",
       "    </tr>\n",
       "    <tr>\n",
       "      <th>16650</th>\n",
       "      <td>29.0</td>\n",
       "      <td>0.0</td>\n",
       "      <td>NaN</td>\n",
       "      <td>NaN</td>\n",
       "      <td>NaN</td>\n",
       "      <td>NaN</td>\n",
       "      <td>2.0</td>\n",
       "      <td>more than 1 million</td>\n",
       "      <td>NaN</td>\n",
       "      <td>NaN</td>\n",
       "      <td>...</td>\n",
       "      <td>NaN</td>\n",
       "      <td>NaN</td>\n",
       "      <td>NaN</td>\n",
       "      <td>NaN</td>\n",
       "      <td>NaN</td>\n",
       "      <td>NaN</td>\n",
       "      <td>NaN</td>\n",
       "      <td>NaN</td>\n",
       "      <td>1.0</td>\n",
       "      <td>16666.666667</td>\n",
       "    </tr>\n",
       "    <tr>\n",
       "      <th>16997</th>\n",
       "      <td>27.0</td>\n",
       "      <td>0.0</td>\n",
       "      <td>NaN</td>\n",
       "      <td>NaN</td>\n",
       "      <td>NaN</td>\n",
       "      <td>NaN</td>\n",
       "      <td>1.0</td>\n",
       "      <td>more than 1 million</td>\n",
       "      <td>NaN</td>\n",
       "      <td>NaN</td>\n",
       "      <td>...</td>\n",
       "      <td>NaN</td>\n",
       "      <td>NaN</td>\n",
       "      <td>NaN</td>\n",
       "      <td>NaN</td>\n",
       "      <td>NaN</td>\n",
       "      <td>NaN</td>\n",
       "      <td>NaN</td>\n",
       "      <td>NaN</td>\n",
       "      <td>NaN</td>\n",
       "      <td>12500.000000</td>\n",
       "    </tr>\n",
       "    <tr>\n",
       "      <th>17231</th>\n",
       "      <td>50.0</td>\n",
       "      <td>0.0</td>\n",
       "      <td>NaN</td>\n",
       "      <td>NaN</td>\n",
       "      <td>NaN</td>\n",
       "      <td>NaN</td>\n",
       "      <td>2.0</td>\n",
       "      <td>less than 100,000</td>\n",
       "      <td>NaN</td>\n",
       "      <td>NaN</td>\n",
       "      <td>...</td>\n",
       "      <td>NaN</td>\n",
       "      <td>NaN</td>\n",
       "      <td>NaN</td>\n",
       "      <td>NaN</td>\n",
       "      <td>NaN</td>\n",
       "      <td>NaN</td>\n",
       "      <td>NaN</td>\n",
       "      <td>NaN</td>\n",
       "      <td>NaN</td>\n",
       "      <td>15000.000000</td>\n",
       "    </tr>\n",
       "  </tbody>\n",
       "</table>\n",
       "<p>11 rows × 137 columns</p>\n",
       "</div>"
      ],
      "text/plain": [
       "        Age  AttendedBootcamp  BootcampFinish  BootcampLoanYesNo  \\\n",
       "718    26.0               1.0             0.0                0.0   \n",
       "1222   32.0               1.0             0.0                0.0   \n",
       "3184   34.0               1.0             1.0                0.0   \n",
       "3930   31.0               0.0             NaN                NaN   \n",
       "6805   46.0               1.0             1.0                1.0   \n",
       "7198   32.0               0.0             NaN                NaN   \n",
       "7505   26.0               1.0             0.0                1.0   \n",
       "9778   33.0               1.0             0.0                1.0   \n",
       "16650  29.0               0.0             NaN                NaN   \n",
       "16997  27.0               0.0             NaN                NaN   \n",
       "17231  50.0               0.0             NaN                NaN   \n",
       "\n",
       "                                 BootcampName  BootcampRecommend  \\\n",
       "718    The Coding Boot Camp at UCLA Extension                1.0   \n",
       "1222                            The Iron Yard                1.0   \n",
       "3184                           We Can Code IT                1.0   \n",
       "3930                                      NaN                NaN   \n",
       "6805                                 Sabio.la                0.0   \n",
       "7198                                      NaN                NaN   \n",
       "7505                                   Codeup                0.0   \n",
       "9778                             Grand Circus                1.0   \n",
       "16650                                     NaN                NaN   \n",
       "16997                                     NaN                NaN   \n",
       "17231                                     NaN                NaN   \n",
       "\n",
       "       ChildrenNumber                 CityPopulation  CodeEventConferences  \\\n",
       "718               NaN            more than 1 million                   1.0   \n",
       "1222              NaN  between 100,000 and 1 million                   NaN   \n",
       "3184              NaN            more than 1 million                   NaN   \n",
       "3930              NaN  between 100,000 and 1 million                   NaN   \n",
       "6805              NaN  between 100,000 and 1 million                   NaN   \n",
       "7198              NaN            more than 1 million                   1.0   \n",
       "7505              NaN            more than 1 million                   NaN   \n",
       "9778              NaN  between 100,000 and 1 million                   NaN   \n",
       "16650             2.0            more than 1 million                   NaN   \n",
       "16997             1.0            more than 1 million                   NaN   \n",
       "17231             2.0              less than 100,000                   NaN   \n",
       "\n",
       "       CodeEventDjangoGirls       ...        YouTubeFunFunFunction  \\\n",
       "718                     NaN       ...                          NaN   \n",
       "1222                    NaN       ...                          NaN   \n",
       "3184                    NaN       ...                          NaN   \n",
       "3930                    NaN       ...                          1.0   \n",
       "6805                    NaN       ...                          NaN   \n",
       "7198                    NaN       ...                          NaN   \n",
       "7505                    NaN       ...                          NaN   \n",
       "9778                    NaN       ...                          NaN   \n",
       "16650                   NaN       ...                          NaN   \n",
       "16997                   NaN       ...                          NaN   \n",
       "17231                   NaN       ...                          NaN   \n",
       "\n",
       "       YouTubeGoogleDev  YouTubeLearnCode  YouTubeLevelUpTuts  YouTubeMIT  \\\n",
       "718                 NaN               NaN                 NaN         NaN   \n",
       "1222                NaN               1.0                 NaN         NaN   \n",
       "3184                NaN               NaN                 NaN         NaN   \n",
       "3930                1.0               1.0                 1.0         1.0   \n",
       "6805                NaN               NaN                 NaN         NaN   \n",
       "7198                1.0               1.0                 1.0         NaN   \n",
       "7505                NaN               NaN                 NaN         1.0   \n",
       "9778                NaN               NaN                 NaN         NaN   \n",
       "16650               NaN               NaN                 NaN         NaN   \n",
       "16997               NaN               NaN                 NaN         NaN   \n",
       "17231               NaN               NaN                 NaN         NaN   \n",
       "\n",
       "       YouTubeMozillaHacks                YouTubeOther YouTubeSimplilearn  \\\n",
       "718                    NaN                         NaN                NaN   \n",
       "1222                   NaN                         NaN                NaN   \n",
       "3184                   NaN                         NaN                NaN   \n",
       "3930                   NaN  various conf presentations                NaN   \n",
       "6805                   NaN                         NaN                NaN   \n",
       "7198                   NaN                         NaN                NaN   \n",
       "7505                   NaN                         NaN                NaN   \n",
       "9778                   NaN                         NaN                NaN   \n",
       "16650                  NaN                         NaN                NaN   \n",
       "16997                  NaN                         NaN                NaN   \n",
       "17231                  NaN                         NaN                NaN   \n",
       "\n",
       "       YouTubeTheNewBoston  MonthlyPayment  \n",
       "718                    NaN     8000.000000  \n",
       "1222                   NaN     6500.000000  \n",
       "3184                   NaN     9000.000000  \n",
       "3930                   NaN    10833.333333  \n",
       "6805                   NaN    15000.000000  \n",
       "7198                   NaN    14000.000000  \n",
       "7505                   NaN     6666.666667  \n",
       "9778                   NaN     8000.000000  \n",
       "16650                  1.0    16666.666667  \n",
       "16997                  NaN    12500.000000  \n",
       "17231                  NaN    15000.000000  \n",
       "\n",
       "[11 rows x 137 columns]"
      ]
     },
     "execution_count": 25,
     "metadata": {},
     "output_type": "execute_result"
    }
   ],
   "source": [
    "usa_outlier = wo_outliers[(wo_outliers['CountryLive']=='United States of America') & (wo_outliers['MonthlyPayment']>6000)]\n",
    "usa_outlier"
   ]
  },
  {
   "cell_type": "markdown",
   "metadata": {},
   "source": [
    "Among the eleven outliers above, there are six respondents attending bootcamps. We have the same problem with the rest five respondents. We couldn't identify the truth whether they spend that much money on learning. It's safe that we remove them.\n",
    "\n",
    "In addition, four out of the six students attending bootcamps haven't finished the bootcamp yet. So that means for the rest of time of the bootcamps, they will learn programming for free. The rest of two students learned programming for only one month. That means they finished the bootcamp within one month, which is likely impossible. The monthly payment we get from those respondents are incorrect. We'd better remove all of these six rows."
   ]
  },
  {
   "cell_type": "code",
   "execution_count": 26,
   "metadata": {
    "collapsed": false
   },
   "outputs": [],
   "source": [
    "# finish_bootcamp = usa_outlier[usa_outlier['BootcampFinish']== 1.0]\n",
    "# usa_outlier = usa_outlier.drop(finish_bootcamp.index)\n",
    "wo_outliers = wo_outliers.drop(usa_outlier.index)"
   ]
  },
  {
   "cell_type": "markdown",
   "metadata": {},
   "source": [
    "Next, let's deal with the data for students live in Canada. From the above box plot, one student spent more than \\$4000 per month for learning. Let's take a look at the answers from this student."
   ]
  },
  {
   "cell_type": "code",
   "execution_count": 27,
   "metadata": {
    "collapsed": false
   },
   "outputs": [
    {
     "data": {
      "text/html": [
       "<div>\n",
       "<style scoped>\n",
       "    .dataframe tbody tr th:only-of-type {\n",
       "        vertical-align: middle;\n",
       "    }\n",
       "\n",
       "    .dataframe tbody tr th {\n",
       "        vertical-align: top;\n",
       "    }\n",
       "\n",
       "    .dataframe thead th {\n",
       "        text-align: right;\n",
       "    }\n",
       "</style>\n",
       "<table border=\"1\" class=\"dataframe\">\n",
       "  <thead>\n",
       "    <tr style=\"text-align: right;\">\n",
       "      <th></th>\n",
       "      <th>Age</th>\n",
       "      <th>AttendedBootcamp</th>\n",
       "      <th>BootcampFinish</th>\n",
       "      <th>BootcampLoanYesNo</th>\n",
       "      <th>BootcampName</th>\n",
       "      <th>BootcampRecommend</th>\n",
       "      <th>ChildrenNumber</th>\n",
       "      <th>CityPopulation</th>\n",
       "      <th>CodeEventConferences</th>\n",
       "      <th>CodeEventDjangoGirls</th>\n",
       "      <th>...</th>\n",
       "      <th>YouTubeFunFunFunction</th>\n",
       "      <th>YouTubeGoogleDev</th>\n",
       "      <th>YouTubeLearnCode</th>\n",
       "      <th>YouTubeLevelUpTuts</th>\n",
       "      <th>YouTubeMIT</th>\n",
       "      <th>YouTubeMozillaHacks</th>\n",
       "      <th>YouTubeOther</th>\n",
       "      <th>YouTubeSimplilearn</th>\n",
       "      <th>YouTubeTheNewBoston</th>\n",
       "      <th>MonthlyPayment</th>\n",
       "    </tr>\n",
       "  </thead>\n",
       "  <tbody>\n",
       "    <tr>\n",
       "      <th>13659</th>\n",
       "      <td>24.0</td>\n",
       "      <td>1.0</td>\n",
       "      <td>0.0</td>\n",
       "      <td>0.0</td>\n",
       "      <td>Bloc.io</td>\n",
       "      <td>1.0</td>\n",
       "      <td>NaN</td>\n",
       "      <td>more than 1 million</td>\n",
       "      <td>1.0</td>\n",
       "      <td>NaN</td>\n",
       "      <td>...</td>\n",
       "      <td>NaN</td>\n",
       "      <td>NaN</td>\n",
       "      <td>NaN</td>\n",
       "      <td>NaN</td>\n",
       "      <td>1.0</td>\n",
       "      <td>NaN</td>\n",
       "      <td>NaN</td>\n",
       "      <td>NaN</td>\n",
       "      <td>NaN</td>\n",
       "      <td>5000.0</td>\n",
       "    </tr>\n",
       "  </tbody>\n",
       "</table>\n",
       "<p>1 rows × 137 columns</p>\n",
       "</div>"
      ],
      "text/plain": [
       "        Age  AttendedBootcamp  BootcampFinish  BootcampLoanYesNo BootcampName  \\\n",
       "13659  24.0               1.0             0.0                0.0      Bloc.io   \n",
       "\n",
       "       BootcampRecommend  ChildrenNumber       CityPopulation  \\\n",
       "13659                1.0             NaN  more than 1 million   \n",
       "\n",
       "       CodeEventConferences  CodeEventDjangoGirls       ...        \\\n",
       "13659                   1.0                   NaN       ...         \n",
       "\n",
       "       YouTubeFunFunFunction  YouTubeGoogleDev  YouTubeLearnCode  \\\n",
       "13659                    NaN               NaN               NaN   \n",
       "\n",
       "       YouTubeLevelUpTuts  YouTubeMIT  YouTubeMozillaHacks  YouTubeOther  \\\n",
       "13659                 NaN         1.0                  NaN           NaN   \n",
       "\n",
       "      YouTubeSimplilearn  YouTubeTheNewBoston  MonthlyPayment  \n",
       "13659                NaN                  NaN          5000.0  \n",
       "\n",
       "[1 rows x 137 columns]"
      ]
     },
     "execution_count": 27,
     "metadata": {},
     "output_type": "execute_result"
    }
   ],
   "source": [
    "canada_outlier = wo_outliers[(wo_outliers['CountryLive']=='Canada') & (wo_outliers['MonthlyPayment']>4000)]\n",
    "canada_outlier"
   ]
  },
  {
   "cell_type": "markdown",
   "metadata": {},
   "source": [
    "The situation here is similar with some of the US respondent. This student paid a \\$10000 at the beginning to enroll in a bootcamp and have learned for no more than two months when he/she completed the survey. It's likely that the student will learning programming for free in the rest of the bootcamp. We will take the same approach here as for the US and remove this row."
   ]
  },
  {
   "cell_type": "code",
   "execution_count": 28,
   "metadata": {
    "collapsed": true
   },
   "outputs": [],
   "source": [
    "wo_outliers = wo_outliers.drop(canada_outlier.index)"
   ]
  },
  {
   "cell_type": "markdown",
   "metadata": {},
   "source": [
    "After removing all of these outliers, let's recompute the mean and recreate the box plot."
   ]
  },
  {
   "cell_type": "code",
   "execution_count": 29,
   "metadata": {
    "collapsed": false
   },
   "outputs": [
    {
     "data": {
      "text/html": [
       "<div>\n",
       "<style scoped>\n",
       "    .dataframe tbody tr th:only-of-type {\n",
       "        vertical-align: middle;\n",
       "    }\n",
       "\n",
       "    .dataframe tbody tr th {\n",
       "        vertical-align: top;\n",
       "    }\n",
       "\n",
       "    .dataframe thead th {\n",
       "        text-align: right;\n",
       "    }\n",
       "</style>\n",
       "<table border=\"1\" class=\"dataframe\">\n",
       "  <thead>\n",
       "    <tr style=\"text-align: right;\">\n",
       "      <th></th>\n",
       "      <th>MonthlyPayment</th>\n",
       "    </tr>\n",
       "    <tr>\n",
       "      <th>CountryLive</th>\n",
       "      <th></th>\n",
       "    </tr>\n",
       "  </thead>\n",
       "  <tbody>\n",
       "    <tr>\n",
       "      <th>Canada</th>\n",
       "      <td>93.065400</td>\n",
       "    </tr>\n",
       "    <tr>\n",
       "      <th>India</th>\n",
       "      <td>65.758763</td>\n",
       "    </tr>\n",
       "    <tr>\n",
       "      <th>United Kingdom</th>\n",
       "      <td>45.534443</td>\n",
       "    </tr>\n",
       "    <tr>\n",
       "      <th>United States of America</th>\n",
       "      <td>142.654608</td>\n",
       "    </tr>\n",
       "  </tbody>\n",
       "</table>\n",
       "</div>"
      ],
      "text/plain": [
       "                          MonthlyPayment\n",
       "CountryLive                             \n",
       "Canada                         93.065400\n",
       "India                          65.758763\n",
       "United Kingdom                 45.534443\n",
       "United States of America      142.654608"
      ]
     },
     "execution_count": 29,
     "metadata": {},
     "output_type": "execute_result"
    }
   ],
   "source": [
    "wo_outliers.pivot_table('MonthlyPayment', 'CountryLive')"
   ]
  },
  {
   "cell_type": "code",
   "execution_count": 30,
   "metadata": {
    "collapsed": false,
    "scrolled": true
   },
   "outputs": [
    {
     "name": "stderr",
     "output_type": "stream",
     "text": [
      "/dataquest/system/env/python3/lib/python3.4/site-packages/seaborn/categorical.py:454: FutureWarning:\n",
      "\n",
      "remove_na is deprecated and is a private function. Do not use.\n",
      "\n"
     ]
    },
    {
     "data": {
      "image/png": "[encoded data removed]",
      "text/plain": [
       "<matplotlib.figure.Figure at 0x7fb970aedfd0>"
      ]
     },
     "metadata": {},
     "output_type": "display_data"
    }
   ],
   "source": [
    "sns.boxplot(x= 'CountryLive', y = 'MonthlyPayment', data = wo_outliers)\n",
    "plt.title(\"Monthly payment for learning in different countries\", fontsize = 16)\n",
    "plt.show()"
   ]
  },
  {
   "cell_type": "markdown",
   "metadata": {},
   "source": [
    "## Choosing the Two Best Markets\n",
    "\n",
    "After eliminating the extreme outliers, we got the updated mean values for monthly payment for each country.\n",
    "\n",
    "Considering the results we've found so far, one country we should definitely advertise in is the US. There are a lot of new coders living there and they are willing to pay a good amount of money for learning each month.\n",
    "\n",
    "We need to choose one more market though."
   ]
  },
  {
   "cell_type": "code",
   "execution_count": 31,
   "metadata": {
    "collapsed": false
   },
   "outputs": [
    {
     "data": {
      "text/plain": [
       "United States of America    74.967908\n",
       "India                       11.732991\n",
       "United Kingdom               7.163030\n",
       "Canada                       6.136072\n",
       "Name: CountryLive, dtype: float64"
      ]
     },
     "execution_count": 31,
     "metadata": {},
     "output_type": "execute_result"
    }
   ],
   "source": [
    "wo_outliers['CountryLive'].value_counts(normalize = True) *100"
   ]
  },
  {
   "cell_type": "markdown",
   "metadata": {},
   "source": [
    "If taking the monthly payment into consideration, Canada is better than India. Because people live in Canada would like to spend more money (\\$93) than people in India (\\$66) each month. Both of their monthly payments are more than our subscription (\\$59). However, there are more potential new coders in India (11.7%) than in Canada(6.1%).\n",
    "\n",
    "So we have different advertising plans as follows:\n",
    "1. Advertise in the US, Canada and India, and split the advertising budget in various combinations:\n",
    "\n",
    "   + %75 for the US, 15% for India, and %10 for Canada.\n",
    "   + %50 for the US, 30% for Canada, and 20% for India.\n",
    "   + etc.\n",
    "   \n",
    "2. Advertise only in the US and Canada, or in the US and India. Split the advertising budget unequally:\n",
    "\n",
    "   + %80 for the US, 20% for India.\n",
    "   + %65 for the US, 36% for Canada.\n",
    "   + etc.\n",
    "   \n",
    "3. Advertise only in the US.\n",
    "\n",
    "At this point, it's probably best to send our analysis to the marketing team and let them use their domain knowledge to decide. They might want to do some extra surveys in India and Canada and then get back to us for analyzing the new survey data."
   ]
  },
  {
   "cell_type": "markdown",
   "metadata": {},
   "source": [
    "## Conclusion\n",
    "\n",
    "In this project, we analyzed survey data from new coders to find the best two markets to advertise in. The only solid conclusion we reached is that the US would be a good market to advertise in.\n",
    "\n",
    "For the second best market, it wasn't clear-cut what to choose between India and Canada. We decided to send the results to the marketing team so they can use their domain knowledge to take the best decision."
   ]
  }
 ],
 "metadata": {
  "kernelspec": {
   "display_name": "Python 3",
   "language": "python",
   "name": "python3"
  },
  "language_info": {
   "codemirror_mode": {
    "name": "ipython",
    "version": 3
   },
   "file_extension": ".py",
   "mimetype": "text/x-python",
   "name": "python",
   "nbconvert_exporter": "python",
   "pygments_lexer": "ipython3",
   "version": "3.4.3"
  }
 },
 "nbformat": 4,
 "nbformat_minor": 2
}
